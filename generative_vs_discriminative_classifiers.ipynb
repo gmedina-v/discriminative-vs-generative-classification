{
  "nbformat": 4,
  "nbformat_minor": 0,
  "metadata": {
    "colab": {
      "name": "generative_vs_discriminative_classifiers.ipynb",
      "provenance": [],
      "collapsed_sections": [],
      "toc_visible": true,
      "mount_file_id": "1bCDvYSuBMyFofLFd-uXPPbab9aPimGTq",
      "authorship_tag": "ABX9TyOcJ9iMFOR3KkaZ7RYnoX1D",
      "include_colab_link": true
    },
    "kernelspec": {
      "name": "python3",
      "display_name": "Python 3"
    }
  },
  "cells": [
    {
      "cell_type": "markdown",
      "metadata": {
        "id": "view-in-github",
        "colab_type": "text"
      },
      "source": [
        "<a href=\"https://colab.research.google.com/github/gmedina-v/discriminative-vs-generative-classification/blob/main/generative_vs_discriminative_classifiers.ipynb\" target=\"_parent\"><img src=\"https://colab.research.google.com/assets/colab-badge.svg\" alt=\"Open In Colab\"/></a>"
      ]
    },
    {
      "cell_type": "markdown",
      "metadata": {
        "id": "UvK6EiRQJIpa"
      },
      "source": [
        "# Generative vs Discriminative models. An illustrated example in text classification"
      ]
    },
    {
      "cell_type": "markdown",
      "metadata": {
        "id": "n2jRELARJKZq"
      },
      "source": [
        "There are two main approaches to classification in machine learning, discriminative models and generative models. Loosely speaking, the former focuses on modeling the decision boundary between classes, while the latter, on modeling the classes themselves. There are plenty of resources online explaining in detail the differences between them  (see, for example, [[1](https://ai.stanford.edu/~ang/papers/nips01-discriminativegenerative.pdf), [2](https://stackoverflow.com/questions/879432/what-is-the-difference-between-a-generative-and-a-discriminative-algorithm), [3](https://towardsdatascience.com/generative-vs-2528de43a836), [4](https://stats.stackexchange.com/questions/12421/generative-vs-discriminative)]). However, the question still remains a hot topic among machine learning newcomers as of today.\r\n",
        "\r\n",
        "This notebook presents an illustrative example of the difference between discriminative and generative models in a text classification task using simple linear classifiers. Hopefully, this can shed some light on what it is exactly that the two categories of models are doing differently. I find that this example is especially illuminating since reading and classifying a text is something we are all familiar with. Moreover, the exercise is quite simple and the code is straightforward to follow.\r\n",
        "\r\n",
        "The task is to classify documents in the appropriate category. The documents in question are abstracts from scientific articles published on the [arXiv](https://arxiv.org). Since an article may correspond to multiple categories, this is a multi-label classification task. For instance, a paper could concern both theoretical physics and general relativity (see cross-lists). The abstracts and categories are found in the [arXiv metedata dataset](https://kaggle.com/Cornell-University/arXiv) hosted in Kaggle. These can be downloaded from the website or using the Kaggle API.\r\n",
        "\r\n",
        "The outline of the notebook is as follows. The first section consists of loading the dataset and a brief data exploratory analysis to understand the problem. The second section constructs the set of features that will be used to train the models. In the the third section, the linear classifiers are introduced and trained. The fourth section provides a comparative analysis by inspecting the most and least informative features that the models have learnt. Finally, the fifth section provides a recap and the conclusions."
      ]
    },
    {
      "cell_type": "markdown",
      "metadata": {
        "id": "B6a1PYm8NjnA"
      },
      "source": [
        "## Contents:\r\n",
        "1. Loading the data and exploratory data analysis\r\n",
        "2. Constructing features\r\n",
        "3. Fitting the classifiers\r\n",
        "4. Comparative analysis: discriminative vs. generative models\r\n",
        "5. Conclusions"
      ]
    },
    {
      "cell_type": "markdown",
      "metadata": {
        "id": "ZLlspA9SJN4U"
      },
      "source": [
        "## 1. Loading the data and exploratory data analysis"
      ]
    },
    {
      "cell_type": "markdown",
      "metadata": {
        "id": "vxMcmTpi5-pB"
      },
      "source": [
        "The data set can be obtained using the Kaggle API. To do this, we must first upload our API token to the environment and put it in the appropriate folder. If you don't know how to use the API how generate a token, see [this link](https://github.com/Kaggle/kaggle-api)"
      ]
    },
    {
      "cell_type": "code",
      "metadata": {
        "colab": {
          "resources": {
            "http://localhost:8080/nbextensions/google.colab/files.js": {
              "data": "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",
              "ok": true,
              "headers": [
                [
                  "content-type",
                  "application/javascript"
                ]
              ],
              "status": 200,
              "status_text": "OK"
            }
          },
          "base_uri": "https://localhost:8080/",
          "height": 73
        },
        "id": "cArqSeP-6nqb",
        "outputId": "f1afdbaf-c56d-44f6-fc4a-da69e19cd564"
      },
      "source": [
        "from google.colab import files\r\n",
        "files.upload();\r\n",
        "!mkdir /root/.kaggle\r\n",
        "!mv kaggle.json /root/.kaggle\r\n",
        "!chmod 600 /root/.kaggle/kaggle.json"
      ],
      "execution_count": 1,
      "outputs": [
        {
          "output_type": "display_data",
          "data": {
            "text/html": [
              "\n",
              "     <input type=\"file\" id=\"files-9eecf8b7-7de1-437c-aa7a-405fc579b423\" name=\"files[]\" multiple disabled\n",
              "        style=\"border:none\" />\n",
              "     <output id=\"result-9eecf8b7-7de1-437c-aa7a-405fc579b423\">\n",
              "      Upload widget is only available when the cell has been executed in the\n",
              "      current browser session. Please rerun this cell to enable.\n",
              "      </output>\n",
              "      <script src=\"/nbextensions/google.colab/files.js\"></script> "
            ],
            "text/plain": [
              "<IPython.core.display.HTML object>"
            ]
          },
          "metadata": {
            "tags": []
          }
        },
        {
          "output_type": "stream",
          "text": [
            "Saving kaggle.json to kaggle.json\n"
          ],
          "name": "stdout"
        }
      ]
    },
    {
      "cell_type": "markdown",
      "metadata": {
        "id": "ZEbpm2rP7UBF"
      },
      "source": [
        "Now we can download the dataset with the following command"
      ]
    },
    {
      "cell_type": "code",
      "metadata": {
        "colab": {
          "base_uri": "https://localhost:8080/"
        },
        "id": "wAqqkvgH6Fk-",
        "outputId": "a19e04e3-e834-44d2-c5cf-9534f2387fd7"
      },
      "source": [
        "!kaggle datasets download -d 'Cornell-University/arxiv'"
      ],
      "execution_count": 2,
      "outputs": [
        {
          "output_type": "stream",
          "text": [
            "Downloading arxiv.zip to /content\n",
            " 99% 896M/906M [00:15<00:00, 66.9MB/s]\n",
            "100% 906M/906M [00:15<00:00, 60.4MB/s]\n"
          ],
          "name": "stdout"
        }
      ]
    },
    {
      "cell_type": "markdown",
      "metadata": {
        "id": "UAa_gSS7KOCy"
      },
      "source": [
        "Unzip the file to access the contents"
      ]
    },
    {
      "cell_type": "code",
      "metadata": {
        "id": "yVMRnpI2IjaU"
      },
      "source": [
        "import zipfile\n",
        "with zipfile.ZipFile('/content/arxiv.zip','r') as file:\n",
        "  file.extractall('/content/')"
      ],
      "execution_count": 3,
      "outputs": []
    },
    {
      "cell_type": "markdown",
      "metadata": {
        "id": "bcBHlT-KJQm1"
      },
      "source": [
        "The following modules will be useful for processing the dataset"
      ]
    },
    {
      "cell_type": "code",
      "metadata": {
        "id": "vDtWO95dJUTN"
      },
      "source": [
        "import json\r\n",
        "import re\r\n",
        "import string\r\n",
        "import textwrap\r\n",
        "import itertools\r\n",
        "import numpy as np"
      ],
      "execution_count": 4,
      "outputs": []
    },
    {
      "cell_type": "markdown",
      "metadata": {
        "id": "IyljMd7DJViZ"
      },
      "source": [
        "Papers in the arXiv are catalogued in a variety of broad categories. Some of these, in turn, may be subdivided into more specific categories. In this exercise, we will only consider classification on the broad categories. These can be inferred from looking at the categories on arxiv.org, or by going through the first few thousand observations in the data set. We might as well capture the abstracts since we're iterating over the dataset already in the following cell."
      ]
    },
    {
      "cell_type": "code",
      "metadata": {
        "colab": {
          "base_uri": "https://localhost:8080/"
        },
        "id": "ppho8B06JWrc",
        "outputId": "2a6a0178-8f28-4291-ed4b-a369098d9a91"
      },
      "source": [
        "path_dataset = '/content/arxiv-metadata-oai-snapshot.json'\r\n",
        "# Construct a generator to read the observations in the json file one by one\r\n",
        "gen_json = (json.loads(line) for line in itertools.islice(open(path_dataset,'r'),5000))\r\n",
        "# Take the 'categories' field of each record, split it by blank spaces to obtain the list of categories the record belongs to.\r\n",
        "# Then split each category name by a dot '.' and keep only the first part describing the broad category name.\r\n",
        "temp_labels = [elem.split('.')[0] for line in [line['categories'].split() for line in gen_json] for elem in line]\r\n",
        "temp_abs = [line['abstract'] for line in gen_json]\r\n",
        "# Sort the set of unique categories, record the number of categories (19) and display what these are \r\n",
        "categories = list(sorted(set(temp_labels)))\r\n",
        "num_cat = len(categories)\r\n",
        "print(f'There are {num_cat} categories, these are the following:')\r\n",
        "print(categories)"
      ],
      "execution_count": 5,
      "outputs": [
        {
          "output_type": "stream",
          "text": [
            "There are 19 categories, these are the following:\n",
            "['astro-ph', 'cond-mat', 'cs', 'econ', 'gr-qc', 'hep-ex', 'hep-lat', 'hep-ph', 'hep-th', 'math', 'math-ph', 'nlin', 'nucl-ex', 'nucl-th', 'physics', 'q-bio', 'q-fin', 'quant-ph', 'stat']\n"
          ],
          "name": "stdout"
        }
      ]
    },
    {
      "cell_type": "markdown",
      "metadata": {
        "id": "NTJkrZnvK4O7"
      },
      "source": [
        "\r\n",
        "\r\n",
        "To understand the types of documents in the data set and what special cases we may encounter in the data, you should go through a few examples. The abstracts were saved in 'temp_abs' in the previous cell, you can print a few of them. In particular, it is instructive to look at the abstracts in indices 0, 2, 5, 19 and 138. For these examples, we can notice the following characteristics:\r\n",
        "\r\n",
        "* Newline characters are included within the text to serve as text wrap for aesthetic purposes. These can break sentences and even words.\r\n",
        "* There may be numbers with positive or negative signs, percentage signs and exponents.\r\n",
        "* There may be physical units, such as m/s^2 (meters over seconds squared).\r\n",
        "* Mathematical formulas are mostly expressed using latex in-line math notation, enclosed by \\$...\\$.\r\n",
        "* However, formulas may sometimes be written as raw text.\r\n",
        "* Abstracts may include proper nouns following scientific nomenclature, such as 'NGC6752'.\r\n",
        "\r\n",
        "It will be useful to standardise all these special cases to reduce the vocabulary in the data. For example, x = 2 and y = 3 are both examples of mathematical formulas and can be replaced by a single token. Tokens are the units that the text will be parsed into. Similarly, it is unlikely that a particular number would be more predictive than other, therefore, all ocurrences of numbers can be replaced by a single token as well. Based on this, we define a few rules to standardise the text. Additionally, in rare occasions a character may have become corrupted at some point during encoding. We can add special rules to treat these cases, however, if we stick to only the first 20k examples in the data set this should not be an issue.\r\n",
        "\r\n",
        "The following cell reads the first (num_examples) abstracts and performs some transformations to standardise the text. The labels are encoding using a one-hot representation.\r\n"
      ]
    },
    {
      "cell_type": "code",
      "metadata": {
        "id": "R6LZrPQeK7W3"
      },
      "source": [
        "# Number of observations to load\r\n",
        "num_examples = 10000\r\n",
        "gen_json = (json.loads(line) for line in itertools.islice(open(path_dataset,'r'),num_examples))\r\n",
        "# Initialise an empty list to store the abstracts and an array of zeros to store the labels\r\n",
        "# The labels will be stored using one-hot encoding, thus, we know the exact dimensions of the array\r\n",
        "abstracts = []\r\n",
        "labels = np.zeros((num_examples,num_cat))\r\n",
        "for idx, line in enumerate(gen_json):\r\n",
        "    # Read abstract, transform to lowercase.\r\n",
        "    abs = line['abstract'].lower()\r\n",
        "    # Remove newline characters\r\n",
        "    abs = re.sub(r'(\\S)\\n(\\S)',r'\\1 \\2',abs)\r\n",
        "    # Fix corrupted characters\r\n",
        "    abs = abs.replace('â\\x80\\x99',\"'\")\r\n",
        "    abs = abs.replace('\\x7f',\"\")\r\n",
        "    abs = abs.replace('â\\x88\\x9e',\"'\")\r\n",
        "    abs = abs.replace('â\\x89¤',\"'\")\r\n",
        "    abs = abs.replace('â\\x80\\x94',\"'\")\r\n",
        "    abs = abs.replace('â\\x80\\x93',\"-\")\r\n",
        "    # Replace latex in-line math expressions $...$ with 'xmathx'\r\n",
        "    abs = re.sub(r'\\$.+?\\$','xmathx',abs)\r\n",
        "    # Replace any number that may contain a sign and a decimal part with 'xnumx'\r\n",
        "    abs = re.sub(r'-*\\+*\\d+\\.*\\d*%*','xnumx',abs)\r\n",
        "    # Matches operations between numbers expressed by a single character, such as * - + ^ /\r\n",
        "    abs = re.sub(r'\\(*xnumx\\)*(\\s*\\S{1}\\s*\\(*xnumx\\)*)*','xnumx',abs)\r\n",
        "    # Matches physical units to some power, e.g. m^3\r\n",
        "    abs = re.sub(r'(\\S)*\\^(xnumx)',r'xunitx',abs)\r\n",
        "    # Matches digits and characters with no whitspace between them, such as 'NGC6752'\r\n",
        "    abs = re.sub(r'((xnumx)+[a-z]+)|([a-z]+(xnumx)+)\\S*','xalphax',abs)\r\n",
        "    # Not all math formulas are enclosed in $...$. Try to catch some of these instances\r\n",
        "    # Matches non-whitespace that has an underscore or a caret\r\n",
        "    abs = re.sub(r'\\S+[_^]\\S+','xmathx',abs)\r\n",
        "    # Matches non-whitespace that has a double backslash except \\'\r\n",
        "    abs = re.sub(r'\\S*\\\\[^\\\\\\']\\S+','xmathx',abs)\r\n",
        "    # Matches two non-whitespaces with a binary comparator operator in the middle \r\n",
        "    # except '-' with optional whitespace\r\n",
        "    abs = re.sub(r'\\S+\\s*([=+><]|>=|=>|<=|=<|=)\\s*\\S+','xmathx',abs)\r\n",
        "    # Matches two math formulas with a '-' in the middle, i.e. xmathx-xmathx\r\n",
        "    # It does not match hyphenated text\r\n",
        "    abs = re.sub(r'xmathx\\s*-\\s*xmathx','xmathx',abs)\r\n",
        "    # Add standardised abstract to the list\r\n",
        "    abstracts.append(abs)\r\n",
        "    # Read list of categories of the current observation\r\n",
        "    cat = line['categories'].split()\r\n",
        "    # Record labels using one-hot encoding\r\n",
        "    for elem in cat:\r\n",
        "        labels[idx,categories.index(elem.split('.')[0])] = 1"
      ],
      "execution_count": 6,
      "outputs": []
    },
    {
      "cell_type": "markdown",
      "metadata": {
        "id": "NXw4q46mLE91"
      },
      "source": [
        "Verify the dimensions of the abstract list and labels array"
      ]
    },
    {
      "cell_type": "code",
      "metadata": {
        "colab": {
          "base_uri": "https://localhost:8080/"
        },
        "id": "1RDMDMyYLO8G",
        "outputId": "33a0813d-5302-4002-a5c6-175e14bf1f7b"
      },
      "source": [
        "print(len(abstracts))\r\n",
        "print(labels.shape)"
      ],
      "execution_count": 7,
      "outputs": [
        {
          "output_type": "stream",
          "text": [
            "10000\n",
            "(10000, 19)\n"
          ],
          "name": "stdout"
        }
      ]
    },
    {
      "cell_type": "markdown",
      "metadata": {
        "id": "02mq03nFLPub"
      },
      "source": [
        "Let's take a look at the distribution of labels in the data set. We will briefly use pandas to do this."
      ]
    },
    {
      "cell_type": "code",
      "metadata": {
        "id": "DQxeUWJrLSAA"
      },
      "source": [
        "import pandas as pd\r\n",
        "df_labels = pd.DataFrame(labels,columns=categories)"
      ],
      "execution_count": 8,
      "outputs": []
    },
    {
      "cell_type": "markdown",
      "metadata": {
        "id": "Ki5wQzu-LT--"
      },
      "source": [
        "Most examples in the sample belong to three categories, 'math', 'astro-ph' and 'cond-mat', while very few correspond to 'econ' and 'q-fin'."
      ]
    },
    {
      "cell_type": "code",
      "metadata": {
        "colab": {
          "base_uri": "https://localhost:8080/",
          "height": 931
        },
        "id": "sAyD1GDOLVly",
        "outputId": "b6313dda-488c-48ba-bbe4-4585b6015bf7"
      },
      "source": [
        "df_labels.agg('sum',axis=0).plot(kind='bar');\r\n",
        "total_counts = df_labels.agg('sum',axis=0)\r\n",
        "total_counts = pd.concat([total_counts,total_counts/total_counts.sum()*100],axis=1)\r\n",
        "total_counts.columns = ['count','proportion (%)']\r\n",
        "total_counts"
      ],
      "execution_count": 9,
      "outputs": [
        {
          "output_type": "execute_result",
          "data": {
            "text/html": [
              "<div>\n",
              "<style scoped>\n",
              "    .dataframe tbody tr th:only-of-type {\n",
              "        vertical-align: middle;\n",
              "    }\n",
              "\n",
              "    .dataframe tbody tr th {\n",
              "        vertical-align: top;\n",
              "    }\n",
              "\n",
              "    .dataframe thead th {\n",
              "        text-align: right;\n",
              "    }\n",
              "</style>\n",
              "<table border=\"1\" class=\"dataframe\">\n",
              "  <thead>\n",
              "    <tr style=\"text-align: right;\">\n",
              "      <th></th>\n",
              "      <th>count</th>\n",
              "      <th>proportion (%)</th>\n",
              "    </tr>\n",
              "  </thead>\n",
              "  <tbody>\n",
              "    <tr>\n",
              "      <th>astro-ph</th>\n",
              "      <td>2069.0</td>\n",
              "      <td>16.320896</td>\n",
              "    </tr>\n",
              "    <tr>\n",
              "      <th>cond-mat</th>\n",
              "      <td>1926.0</td>\n",
              "      <td>15.192869</td>\n",
              "    </tr>\n",
              "    <tr>\n",
              "      <th>cs</th>\n",
              "      <td>521.0</td>\n",
              "      <td>4.109805</td>\n",
              "    </tr>\n",
              "    <tr>\n",
              "      <th>econ</th>\n",
              "      <td>2.0</td>\n",
              "      <td>0.015777</td>\n",
              "    </tr>\n",
              "    <tr>\n",
              "      <th>gr-qc</th>\n",
              "      <td>558.0</td>\n",
              "      <td>4.401672</td>\n",
              "    </tr>\n",
              "    <tr>\n",
              "      <th>hep-ex</th>\n",
              "      <td>224.0</td>\n",
              "      <td>1.766980</td>\n",
              "    </tr>\n",
              "    <tr>\n",
              "      <th>hep-lat</th>\n",
              "      <td>99.0</td>\n",
              "      <td>0.780942</td>\n",
              "    </tr>\n",
              "    <tr>\n",
              "      <th>hep-ph</th>\n",
              "      <td>901.0</td>\n",
              "      <td>7.107360</td>\n",
              "    </tr>\n",
              "    <tr>\n",
              "      <th>hep-th</th>\n",
              "      <td>996.0</td>\n",
              "      <td>7.856748</td>\n",
              "    </tr>\n",
              "    <tr>\n",
              "      <th>math</th>\n",
              "      <td>2495.0</td>\n",
              "      <td>19.681313</td>\n",
              "    </tr>\n",
              "    <tr>\n",
              "      <th>math-ph</th>\n",
              "      <td>436.0</td>\n",
              "      <td>3.439300</td>\n",
              "    </tr>\n",
              "    <tr>\n",
              "      <th>nlin</th>\n",
              "      <td>218.0</td>\n",
              "      <td>1.719650</td>\n",
              "    </tr>\n",
              "    <tr>\n",
              "      <th>nucl-ex</th>\n",
              "      <td>142.0</td>\n",
              "      <td>1.120139</td>\n",
              "    </tr>\n",
              "    <tr>\n",
              "      <th>nucl-th</th>\n",
              "      <td>277.0</td>\n",
              "      <td>2.185060</td>\n",
              "    </tr>\n",
              "    <tr>\n",
              "      <th>physics</th>\n",
              "      <td>815.0</td>\n",
              "      <td>6.428966</td>\n",
              "    </tr>\n",
              "    <tr>\n",
              "      <th>q-bio</th>\n",
              "      <td>173.0</td>\n",
              "      <td>1.364676</td>\n",
              "    </tr>\n",
              "    <tr>\n",
              "      <th>q-fin</th>\n",
              "      <td>55.0</td>\n",
              "      <td>0.433857</td>\n",
              "    </tr>\n",
              "    <tr>\n",
              "      <th>quant-ph</th>\n",
              "      <td>672.0</td>\n",
              "      <td>5.300939</td>\n",
              "    </tr>\n",
              "    <tr>\n",
              "      <th>stat</th>\n",
              "      <td>98.0</td>\n",
              "      <td>0.773054</td>\n",
              "    </tr>\n",
              "  </tbody>\n",
              "</table>\n",
              "</div>"
            ],
            "text/plain": [
              "           count  proportion (%)\n",
              "astro-ph  2069.0       16.320896\n",
              "cond-mat  1926.0       15.192869\n",
              "cs         521.0        4.109805\n",
              "econ         2.0        0.015777\n",
              "gr-qc      558.0        4.401672\n",
              "hep-ex     224.0        1.766980\n",
              "hep-lat     99.0        0.780942\n",
              "hep-ph     901.0        7.107360\n",
              "hep-th     996.0        7.856748\n",
              "math      2495.0       19.681313\n",
              "math-ph    436.0        3.439300\n",
              "nlin       218.0        1.719650\n",
              "nucl-ex    142.0        1.120139\n",
              "nucl-th    277.0        2.185060\n",
              "physics    815.0        6.428966\n",
              "q-bio      173.0        1.364676\n",
              "q-fin       55.0        0.433857\n",
              "quant-ph   672.0        5.300939\n",
              "stat        98.0        0.773054"
            ]
          },
          "metadata": {
            "tags": []
          },
          "execution_count": 9
        },
        {
          "output_type": "display_data",
          "data": {
            "image/png": "[encoded data removed]",
            "text/plain": [
              "<Figure size 432x288 with 1 Axes>"
            ]
          },
          "metadata": {
            "tags": [],
            "needs_background": "light"
          }
        }
      ]
    },
    {
      "cell_type": "markdown",
      "metadata": {
        "id": "RDZC0KPFLXTd"
      },
      "source": [
        "Evidently, the classes are largely unbalanced. Thus, if we train the same classifier to predict all classes, we can expect that it will perform much better on the classes with the largest volume. Note that since this is a multi-label classification task, the sum of the the counts reported in the table above is larger than the number of observations."
      ]
    },
    {
      "cell_type": "markdown",
      "metadata": {
        "id": "jWjqUGg-LZzp"
      },
      "source": [
        "## 2. Constructing features"
      ]
    },
    {
      "cell_type": "markdown",
      "metadata": {
        "id": "K7-QAv4oLcDX"
      },
      "source": [
        "Next we need to tokenise the text. We will use the *nltk* module to accomplish this. This means that the text is separated into units that we can use for training a classifier. Tokens are typically words, but depending on the application, they could also be sub-words, sentences or even paragraphs. In this case, word tokenisation is more suitable.\r\n",
        "\r\n",
        "Moreover, we will be using a bag of words approach, i.e. we assume that the order of the words does not matter. This is a very rough approximation, however it allows for great simplicity and you will see that the results are not too bad. Thus, we should filter out useless words such as stop word, i.e., words so common that they appear everywhere and are not useful for separating the classes. The *nltk* module has a collection of stop words derived from common words in English"
      ]
    },
    {
      "cell_type": "code",
      "metadata": {
        "colab": {
          "base_uri": "https://localhost:8080/"
        },
        "id": "DDjCKx7OLj-z",
        "outputId": "c7f774de-0db2-477e-f2da-33a6ff2f974b"
      },
      "source": [
        "import nltk\r\n",
        "from nltk.corpus import stopwords\r\n",
        "from nltk.text import TextCollection\r\n",
        "nltk.download('stopwords');\r\n",
        "nltk.download('punkt');"
      ],
      "execution_count": 10,
      "outputs": [
        {
          "output_type": "stream",
          "text": [
            "[nltk_data] Downloading package stopwords to /root/nltk_data...\n",
            "[nltk_data]   Unzipping corpora/stopwords.zip.\n",
            "[nltk_data] Downloading package punkt to /root/nltk_data...\n",
            "[nltk_data]   Unzipping tokenizers/punkt.zip.\n"
          ],
          "name": "stdout"
        }
      ]
    },
    {
      "cell_type": "markdown",
      "metadata": {
        "id": "x_K_AZiKLlxv"
      },
      "source": [
        "The predefined stop words from *nltk* are the following:"
      ]
    },
    {
      "cell_type": "code",
      "metadata": {
        "colab": {
          "base_uri": "https://localhost:8080/"
        },
        "id": "KLEaRgn7Ln9y",
        "outputId": "fb2f8c78-bdfa-47d2-c05c-63a969a8ab08"
      },
      "source": [
        "textwrap.wrap(', '.join(stopwords.words('english')),70)"
      ],
      "execution_count": 11,
      "outputs": [
        {
          "output_type": "execute_result",
          "data": {
            "text/plain": [
              "[\"i, me, my, myself, we, our, ours, ourselves, you, you're, you've,\",\n",
              " \"you'll, you'd, your, yours, yourself, yourselves, he, him, his,\",\n",
              " \"himself, she, she's, her, hers, herself, it, it's, its, itself, they,\",\n",
              " 'them, their, theirs, themselves, what, which, who, whom, this, that,',\n",
              " \"that'll, these, those, am, is, are, was, were, be, been, being, have,\",\n",
              " 'has, had, having, do, does, did, doing, a, an, the, and, but, if, or,',\n",
              " 'because, as, until, while, of, at, by, for, with, about, against,',\n",
              " 'between, into, through, during, before, after, above, below, to, from,',\n",
              " 'up, down, in, out, on, off, over, under, again, further, then, once,',\n",
              " 'here, there, when, where, why, how, all, any, both, each, few, more,',\n",
              " 'most, other, some, such, no, nor, not, only, own, same, so, than, too,',\n",
              " \"very, s, t, can, will, just, don, don't, should, should've, now, d,\",\n",
              " \"ll, m, o, re, ve, y, ain, aren, aren't, couldn, couldn't, didn,\",\n",
              " \"didn't, doesn, doesn't, hadn, hadn't, hasn, hasn't, haven, haven't,\",\n",
              " \"isn, isn't, ma, mightn, mightn't, mustn, mustn't, needn, needn't,\",\n",
              " \"shan, shan't, shouldn, shouldn't, wasn, wasn't, weren, weren't, won,\",\n",
              " \"won't, wouldn, wouldn't\"]"
            ]
          },
          "metadata": {
            "tags": []
          },
          "execution_count": 11
        }
      ]
    },
    {
      "cell_type": "markdown",
      "metadata": {
        "id": "1irzFTYzLpqV"
      },
      "source": [
        "In addition to common words in the language, we should also search for stop words specific to the corpus we are working with. You can do this by running the tokeniser once and inspecting the most common tokens that do not carry much semantic meaning. Doing this, you can identify that the following tokens should be added to the list of stop words:"
      ]
    },
    {
      "cell_type": "code",
      "metadata": {
        "id": "pmlduT7mLsZn"
      },
      "source": [
        "add_stopwords = [ 'show','results','also','two','using','study','present',\r\n",
        "                  'one','paper','find','new','based',\"''\",\"'s\",'used']"
      ],
      "execution_count": 12,
      "outputs": []
    },
    {
      "cell_type": "markdown",
      "metadata": {
        "id": "MEnVOGZTLuFj"
      },
      "source": [
        "These words are commonly used in scientific writing. A generic example of an abstract would go something like this:\r\n",
        "\r\n",
        "\"In this paper/stuy, we present/show a new [...]. Using the method of/Based on [...], we find [...] . The results (also) show that [...]\"\r\n",
        "\r\n",
        "Thus, we tokenise the text removing stopwords and any special or puctuation characters that were not captured by the previous processing rules."
      ]
    },
    {
      "cell_type": "code",
      "metadata": {
        "id": "EQj0DItNLwrv"
      },
      "source": [
        "tokenized_abs = [nltk.word_tokenize(abs) for abs in abstracts]\r\n",
        "stop_words = set(stopwords.words('english')+add_stopwords)\r\n",
        "cl_tkn_abs = [[tkn for tkn in abs if \r\n",
        "                (tkn not in stop_words) and \r\n",
        "                (tkn not in '!\"#$%&\\'()*+,-./:;<=>?@[\\]^_`{|}~\\n')] \r\n",
        "              for abs in tokenized_abs]"
      ],
      "execution_count": 13,
      "outputs": []
    },
    {
      "cell_type": "markdown",
      "metadata": {
        "id": "ERIxn9AQLy_M"
      },
      "source": [
        "In the approach we follow here, the tokens will define the features of the data via the document-term matrix, a matrix where each row is a document (observation) and each column is a token (feature). What the values in this matrix are is up to us. Common choices are to fill the matrix with boolean frequencies, frequency counts, normalised frequency counts and tf-idf (term frequency-inverse document frequency). It will be convenient to save the abstracts in a TextCollection object from the nltk.text module."
      ]
    },
    {
      "cell_type": "code",
      "metadata": {
        "id": "6RrfTmooL1W9"
      },
      "source": [
        "txt_coll = TextCollection(cl_tkn_abs)"
      ],
      "execution_count": 14,
      "outputs": []
    },
    {
      "cell_type": "markdown",
      "metadata": {
        "id": "5gXYMANYL2wd"
      },
      "source": [
        "TextCollection also contains the frequency distribution of tokens in the vocabulary across the whole corpus. We can take a look at the 20 most common tokens to find that most documents contain mathematical formulas (xmathx), numbers (xnumx) and some type of alphanumeric words (xalphax). Recalling the distribution of labels we computed earlier this should not be surprising, as these are mostly physics and mathematics texts. Further down the list, some field-specific terms start to appear, such as 'field', 'quantum', 'data', 'mass' and 'magnetic'. These are all keywords that could be used to distinguish texts from different categories. For instance, an abstract containing the word 'magnetic' is not likely to be belong to the category of mathematics or general relativity but to condensed matter instead."
      ]
    },
    {
      "cell_type": "code",
      "metadata": {
        "colab": {
          "base_uri": "https://localhost:8080/"
        },
        "id": "TXKkP05gL4-5",
        "outputId": "d0aa5a99-e408-486c-e506-d47ce68beb9b"
      },
      "source": [
        "vocab = txt_coll.vocab()\r\n",
        "vocab.most_common(20)"
      ],
      "execution_count": 15,
      "outputs": [
        {
          "output_type": "execute_result",
          "data": {
            "text/plain": [
              "[('xmathx', 17660),\n",
              " ('xnumx', 8984),\n",
              " ('xalphax', 5568),\n",
              " ('model', 3526),\n",
              " ('field', 2643),\n",
              " ('quantum', 2276),\n",
              " ('energy', 2242),\n",
              " ('theory', 2028),\n",
              " ('data', 2015),\n",
              " ('system', 1888),\n",
              " ('mass', 1844),\n",
              " ('models', 1536),\n",
              " ('function', 1527),\n",
              " ('state', 1508),\n",
              " ('time', 1502),\n",
              " ('magnetic', 1479),\n",
              " ('large', 1443),\n",
              " ('density', 1433),\n",
              " ('phase', 1422),\n",
              " ('systems', 1403)]"
            ]
          },
          "metadata": {
            "tags": []
          },
          "execution_count": 15
        }
      ]
    },
    {
      "cell_type": "markdown",
      "metadata": {
        "id": "UJKRtiQ6L6jy"
      },
      "source": [
        "In this example, we will keep only the top 2k most frequent tokens and compute their boolean frequencies, i.e. 1 if they appear in a given document and 0 otherwise."
      ]
    },
    {
      "cell_type": "code",
      "metadata": {
        "id": "UKDxIQqAL9gY"
      },
      "source": [
        "num_top_words = 2000\r\n",
        "top_words = [k for k,v in vocab.most_common(num_top_words)]\r\n",
        "# Initialise an array of zeros to save the frequencies\r\n",
        "boolean_freq = np.zeros((num_examples,num_top_words))\r\n",
        "for i,abs in enumerate(cl_tkn_abs):\r\n",
        "    temp_abs = set(abs)\r\n",
        "    for j,word in enumerate(top_words):\r\n",
        "        boolean_freq[i,j] = word in temp_abs"
      ],
      "execution_count": 16,
      "outputs": []
    },
    {
      "cell_type": "markdown",
      "metadata": {
        "id": "DoFfF5NgL-0s"
      },
      "source": [
        "## 3. Fitting the classifiers"
      ]
    },
    {
      "cell_type": "markdown",
      "metadata": {
        "id": "8lbSNtQyMBXJ"
      },
      "source": [
        "Now that we have features and labels we can train the models. We will use two classifiers, one is a logistic regression which is a discriminative model, and the other, a naive Bayes classifier, a generative model.\r\n",
        "\r\n",
        "The logistic regression is a linear regression passed through the logistic function. This function maps any value to the domain [0,+1]. The reason for this mapping is to give the output the interpretation of a probability. As with any regression, the weights characterise the relation between an input and the output ignoring variations on any other inputs.\r\n",
        "\r\n",
        "The naive Bayes classifier constructs the conditional probability distribution of the inputs given a target value. In other words, it assigns a probability to each feature per each existing label based on the values in the training set. The 'naive' part refers to the fact that the model assumes all features to be independent of each other. This is of course a very rough assumption, since we know that words in a sentence have intricate relations. Thus, the values assigned to the features are probabilities that sum up to one within each label.\r\n",
        "\r\n",
        "We will use the scikit-learn implementation of these models as it's straightforward to use. Note that this implemention does not support multi-label classification by itself (not to be confused with multi-class classification, which is supported). Therefore, we will follow a one vs. rest strategy and train a classifier for each category. This can be conveniently achieved using the OneVsRestClassifier object from sklearn.multiclass"
      ]
    },
    {
      "cell_type": "code",
      "metadata": {
        "id": "hRKn5UnJMD5T"
      },
      "source": [
        "from sklearn.model_selection import train_test_split\r\n",
        "from sklearn.metrics import confusion_matrix, classification_report\r\n",
        "from sklearn.multiclass import OneVsRestClassifier\r\n",
        "from sklearn.naive_bayes import MultinomialNB\r\n",
        "from sklearn.linear_model import LogisticRegression"
      ],
      "execution_count": 17,
      "outputs": []
    },
    {
      "cell_type": "markdown",
      "metadata": {
        "id": "gSNBuriXMGI8"
      },
      "source": [
        "Split the data into training and testing sets. Note that since we will be using the OneVsRestClassifier object, the targets can be passed in the one-hot representation as a matrix of dimensions (num_examples,num_labels)"
      ]
    },
    {
      "cell_type": "code",
      "metadata": {
        "colab": {
          "base_uri": "https://localhost:8080/"
        },
        "id": "HSG_-l7KMH2D",
        "outputId": "3921579d-77c1-40c6-dd5a-cec88c2dd785"
      },
      "source": [
        "X_train, X_test, y_train, y_test = train_test_split(boolean_freq,labels,test_size=0.30,random_state=101)\r\n",
        "print([X_train.shape, X_test.shape, y_train.shape, y_test.shape])"
      ],
      "execution_count": 18,
      "outputs": [
        {
          "output_type": "stream",
          "text": [
            "[(7000, 2000), (3000, 2000), (7000, 19), (3000, 19)]\n"
          ],
          "name": "stdout"
        }
      ]
    },
    {
      "cell_type": "markdown",
      "metadata": {
        "id": "cKOMFvIBMJjP"
      },
      "source": [
        "We will construct a dictionary of classifiers with two entries. Each entry contains an instance of the OneVsRestClassifier, which in turns holds 19 classifiers, one for each label. The predicted labels are similarly captured in a dictionary holding two arrays of dimensions (# of examples, # of classes).\r\n",
        "\r\n",
        "As a technical note, in the following cell you can change the solver for the logistic regression to improve performance depending on the size of the training set. For small data sets, e.g. 7k training examples, the default solver 'lbfgs' works well. For large sets e.g., >14k training examples, 'sag' is faster. You may need to increase the number of iterations in the latter case for the solver to converge."
      ]
    },
    {
      "cell_type": "code",
      "metadata": {
        "id": "XLoSbs7aMMb8"
      },
      "source": [
        "clf = {}\r\n",
        "y_pred = {}\r\n",
        "clf['logr'] = OneVsRestClassifier(LogisticRegression(solver='lbfgs')).fit(X_train,y_train)\r\n",
        "# clf['logr'] = OneVsRestClassifier(LogisticRegression(solver='sag',max_iter=500)).fit(X_train,y_train)\r\n",
        "clf['nb'] = OneVsRestClassifier(MultinomialNB()).fit(X_train,y_train)\r\n",
        "y_pred['logr'] = clf['logr'].predict(X_test)\r\n",
        "y_pred['nb'] = clf['nb'].predict(X_test)"
      ],
      "execution_count": 19,
      "outputs": []
    },
    {
      "cell_type": "markdown",
      "metadata": {
        "id": "l8rf5KkwMRrk"
      },
      "source": [
        "Next, we print out the classification report with the precision, accuracy and f1-score of the classifiers. Note that the classifiers work better for categories with a high volume of observations, as expected."
      ]
    },
    {
      "cell_type": "code",
      "metadata": {
        "colab": {
          "base_uri": "https://localhost:8080/"
        },
        "id": "v4I7nhGXMSp5",
        "outputId": "492728c3-88e7-4d37-a9c4-dafb52276291"
      },
      "source": [
        "print('Logistic Regression')\r\n",
        "print(classification_report(y_test,y_pred['logr'],target_names=categories));\r\n",
        "print('Naive Bayes')\r\n",
        "print(classification_report(y_test,y_pred['nb'],target_names=categories));"
      ],
      "execution_count": 20,
      "outputs": [
        {
          "output_type": "stream",
          "text": [
            "Logistic Regression\n",
            "              precision    recall  f1-score   support\n",
            "\n",
            "    astro-ph       0.92      0.84      0.88       647\n",
            "    cond-mat       0.79      0.72      0.75       578\n",
            "          cs       0.79      0.55      0.65       172\n",
            "        econ       0.00      0.00      0.00         0\n",
            "       gr-qc       0.64      0.48      0.55       172\n",
            "      hep-ex       0.74      0.48      0.58        73\n",
            "     hep-lat       0.88      0.27      0.41        26\n",
            "      hep-ph       0.74      0.58      0.65       264\n",
            "      hep-th       0.72      0.64      0.67       284\n",
            "        math       0.86      0.86      0.86       753\n",
            "     math-ph       0.31      0.12      0.17       134\n",
            "        nlin       0.22      0.08      0.12        59\n",
            "     nucl-ex       0.71      0.38      0.50        39\n",
            "     nucl-th       0.57      0.31      0.40        75\n",
            "     physics       0.36      0.20      0.26       240\n",
            "       q-bio       0.67      0.11      0.18        56\n",
            "       q-fin       0.00      0.00      0.00        13\n",
            "    quant-ph       0.72      0.52      0.61       202\n",
            "        stat       0.75      0.09      0.16        34\n",
            "\n",
            "   micro avg       0.78      0.62      0.69      3821\n",
            "   macro avg       0.60      0.38      0.44      3821\n",
            "weighted avg       0.74      0.62      0.67      3821\n",
            " samples avg       0.69      0.68      0.67      3821\n",
            "\n",
            "Naive Bayes\n",
            "              precision    recall  f1-score   support\n",
            "\n",
            "    astro-ph       0.90      0.87      0.88       647\n",
            "    cond-mat       0.70      0.88      0.78       578\n",
            "          cs       0.45      0.92      0.61       172\n",
            "        econ       0.00      0.00      0.00         0\n",
            "       gr-qc       0.41      0.80      0.54       172\n",
            "      hep-ex       0.36      0.90      0.52        73\n",
            "     hep-lat       0.28      0.85      0.42        26\n",
            "      hep-ph       0.53      0.84      0.65       264\n",
            "      hep-th       0.39      0.89      0.54       284\n",
            "        math       0.75      0.92      0.83       753\n",
            "     math-ph       0.15      0.75      0.24       134\n",
            "        nlin       0.21      0.49      0.29        59\n",
            "     nucl-ex       0.19      0.77      0.30        39\n",
            "     nucl-th       0.25      0.73      0.38        75\n",
            "     physics       0.30      0.57      0.39       240\n",
            "       q-bio       0.24      0.62      0.34        56\n",
            "       q-fin       0.13      0.31      0.19        13\n",
            "    quant-ph       0.44      0.73      0.55       202\n",
            "        stat       0.19      0.65      0.30        34\n",
            "\n",
            "   micro avg       0.48      0.83      0.61      3821\n",
            "   macro avg       0.36      0.71      0.46      3821\n",
            "weighted avg       0.58      0.83      0.67      3821\n",
            " samples avg       0.58      0.87      0.65      3821\n",
            "\n"
          ],
          "name": "stdout"
        },
        {
          "output_type": "stream",
          "text": [
            "/usr/local/lib/python3.6/dist-packages/sklearn/metrics/_classification.py:1272: UndefinedMetricWarning: Precision and F-score are ill-defined and being set to 0.0 in labels with no predicted samples. Use `zero_division` parameter to control this behavior.\n",
            "  _warn_prf(average, modifier, msg_start, len(result))\n",
            "/usr/local/lib/python3.6/dist-packages/sklearn/metrics/_classification.py:1272: UndefinedMetricWarning: Recall and F-score are ill-defined and being set to 0.0 in labels with no true samples. Use `zero_division` parameter to control this behavior.\n",
            "  _warn_prf(average, modifier, msg_start, len(result))\n",
            "/usr/local/lib/python3.6/dist-packages/sklearn/metrics/_classification.py:1272: UndefinedMetricWarning: Precision and F-score are ill-defined and being set to 0.0 in samples with no predicted labels. Use `zero_division` parameter to control this behavior.\n",
            "  _warn_prf(average, modifier, msg_start, len(result))\n"
          ],
          "name": "stderr"
        }
      ]
    },
    {
      "cell_type": "markdown",
      "metadata": {
        "id": "vfpk1YO9MUbH"
      },
      "source": [
        "It is interesting to note that in this example, the logistic regression trades-off recall for precision, while in naive Bayes it is the other way around. This is not always true, however, and depends on the task that is being solved. The global score is not great, nonetheless, the classifiers for three categories with the most volume of observations seem to be doing relatively well."
      ]
    },
    {
      "cell_type": "code",
      "metadata": {
        "colab": {
          "base_uri": "https://localhost:8080/"
        },
        "id": "Mm7elAxEMX1m",
        "outputId": "985599ce-f9cc-4789-89c3-daa816e83977"
      },
      "source": [
        "print('Logistic Regression\\n')\r\n",
        "print(classification_report(y_test[:,9],y_pred['logr'][:,9],target_names=['not math','math']))\r\n",
        "print(classification_report(y_test[:,0],y_pred['logr'][:,0],target_names=['not astro-ph','astro-ph']))\r\n",
        "print(classification_report(y_test[:,1],y_pred['logr'][:,1],target_names=['not cond-mat','cond-mat']))\r\n",
        "print('-'*70)\r\n",
        "print('Naive Bayes\\n')\r\n",
        "print(classification_report(y_test[:,9],y_pred['nb'][:,9],target_names=['not math','math']))\r\n",
        "print(classification_report(y_test[:,0],y_pred['nb'][:,0],target_names=['not astro-ph','astro-ph']))\r\n",
        "print(classification_report(y_test[:,1],y_pred['nb'][:,1],target_names=['not cond-mat','cond-mat']))"
      ],
      "execution_count": 21,
      "outputs": [
        {
          "output_type": "stream",
          "text": [
            "Logistic Regression\n",
            "\n",
            "              precision    recall  f1-score   support\n",
            "\n",
            "    not math       0.95      0.95      0.95      2247\n",
            "        math       0.86      0.86      0.86       753\n",
            "\n",
            "    accuracy                           0.93      3000\n",
            "   macro avg       0.91      0.91      0.91      3000\n",
            "weighted avg       0.93      0.93      0.93      3000\n",
            "\n",
            "              precision    recall  f1-score   support\n",
            "\n",
            "not astro-ph       0.96      0.98      0.97      2353\n",
            "    astro-ph       0.92      0.84      0.88       647\n",
            "\n",
            "    accuracy                           0.95      3000\n",
            "   macro avg       0.94      0.91      0.92      3000\n",
            "weighted avg       0.95      0.95      0.95      3000\n",
            "\n",
            "              precision    recall  f1-score   support\n",
            "\n",
            "not cond-mat       0.93      0.96      0.94      2422\n",
            "    cond-mat       0.79      0.72      0.75       578\n",
            "\n",
            "    accuracy                           0.91      3000\n",
            "   macro avg       0.86      0.84      0.85      3000\n",
            "weighted avg       0.91      0.91      0.91      3000\n",
            "\n",
            "----------------------------------------------------------------------\n",
            "Naive Bayes\n",
            "\n",
            "              precision    recall  f1-score   support\n",
            "\n",
            "    not math       0.97      0.90      0.93      2247\n",
            "        math       0.75      0.92      0.83       753\n",
            "\n",
            "    accuracy                           0.90      3000\n",
            "   macro avg       0.86      0.91      0.88      3000\n",
            "weighted avg       0.92      0.90      0.91      3000\n",
            "\n",
            "              precision    recall  f1-score   support\n",
            "\n",
            "not astro-ph       0.96      0.97      0.97      2353\n",
            "    astro-ph       0.90      0.87      0.88       647\n",
            "\n",
            "    accuracy                           0.95      3000\n",
            "   macro avg       0.93      0.92      0.92      3000\n",
            "weighted avg       0.95      0.95      0.95      3000\n",
            "\n",
            "              precision    recall  f1-score   support\n",
            "\n",
            "not cond-mat       0.97      0.91      0.94      2422\n",
            "    cond-mat       0.70      0.88      0.78       578\n",
            "\n",
            "    accuracy                           0.91      3000\n",
            "   macro avg       0.84      0.89      0.86      3000\n",
            "weighted avg       0.92      0.91      0.91      3000\n",
            "\n"
          ],
          "name": "stdout"
        }
      ]
    },
    {
      "cell_type": "markdown",
      "metadata": {
        "id": "gKLTCmH1MZ53"
      },
      "source": [
        "Although more complete approaches can undoubtedly achieve higher accuracy, the classifiers have learnt enough to illustrate the point we are trying to make in here, understanding the difference between discriminative and generative models. This is explained in detail in the following section."
      ]
    },
    {
      "cell_type": "markdown",
      "metadata": {
        "id": "O-L0QyW-MclK"
      },
      "source": [
        "## 4. Comparative analysis: discriminative vs. generative models"
      ]
    },
    {
      "cell_type": "markdown",
      "metadata": {
        "id": "21tk2jvPMemz"
      },
      "source": [
        "This is the main section of the study where we take a closer inpection into what exactly the models are doing. As explained in the previous section, the logistic regression is learning weights which describe the relation of inputs to the labels. The larger the magnitude of this coefficient (weight), the stronger the association, which could be either positive or negative. Meanwhile, the naive Bayes classifier learns conditional probability distributions, i.e. the probability distribution over the features given a label. Probabilities can only be non-negative. The larger the probability of a feature given a label, the more likely that a text belonging to that label would contain that feature.\r\n",
        "\r\n",
        "In the cell below, we extract the weights of the logistic regression, stored in the 'coef' property for a given scikit-learn classifier (estimator) and order them according to their magnitude. Each weight is associated to a token. It is instructive to look at the tokens with the largest weight magnitude both with positive and negative signs. In the naive Bayes classifier, 'coef' stores the logaritmic probability of the tokens for each classifier (estimator). Therefore, the tokens can be ordered from higher to smaller value. We first pass these values through an exponential to recover the actual probabilities. The following cell displays the top and bottom ten tokens that the models have learn to use for deciding if a document belongs to the 'math' category or not."
      ]
    },
    {
      "cell_type": "code",
      "metadata": {
        "colab": {
          "base_uri": "https://localhost:8080/"
        },
        "id": "aOeoexUYMhM4",
        "outputId": "2efb30fc-a5c0-4832-f300-1942ab5eb20f"
      },
      "source": [
        "# Weights in the logistic regression for 'math' (index 9), separated into positive and negative values\r\n",
        "temp_coefs_p = [(word,coef) for word,coef in zip(top_words,clf['logr'].estimators_[9].coef_[0]) if coef>0]\r\n",
        "temp_coefs_n = [(word,coef) for word,coef in zip(top_words,clf['logr'].estimators_[9].coef_[0]) if coef<0]\r\n",
        "# Note that weights are sorted according to their absolute value\r\n",
        "temp_coefs_p = sorted(temp_coefs_p,key=lambda x:np.abs(x[-1]),reverse=True)\r\n",
        "temp_coefs_n = sorted(temp_coefs_n,key=lambda x:np.abs(x[-1]),reverse=True)\r\n",
        "\r\n",
        "# Probability distribution for 'math' (index 9) in the naive Bayes classifier\r\n",
        "# Note that coef_ returns the logarithmic probability, so we pass it through an exponential to get the probability\r\n",
        "temp_coefs_nb = [(word,np.exp(coef)) for word,coef in zip(top_words,clf['nb'].estimators_[9].coef_[0])]\r\n",
        "temp_coefs_nb = sorted(temp_coefs_nb,key=lambda x:np.abs(x[-1]),reverse=True)\r\n",
        "\r\n",
        "print('math (Mathematics)\\n')\r\n",
        "print('Logistic regression decision words (discriminative model)')\r\n",
        "print('-'*70)\r\n",
        "for i in range(10):\r\n",
        "    # Logistic regression coefficients\r\n",
        "    (word_p,coef_p) = temp_coefs_p[i]\r\n",
        "    (word_n,coef_n) = temp_coefs_n[i]\r\n",
        "    print(f'{word_p:<15}: {coef_p:>+0.4f} \\t {word_n:<15}: {coef_n:>+0.4f}')\r\n",
        "\r\n",
        "print('\\n')\r\n",
        "print('Naive Bayes classifier probable/improbable words (generative model)')\r\n",
        "print('-'*70)\r\n",
        "for i in range(10):\r\n",
        "    # Naive Bayes classifier coefficients\r\n",
        "    (word_high,coef_high) = temp_coefs_nb[i]\r\n",
        "    (word_low,coef_low) = temp_coefs_nb[-i-1]\r\n",
        "    print(f'{word_high:<15}: {coef_high:>+0.8f} \\t {word_low:<15}: {coef_low:>+0.8f}')"
      ],
      "execution_count": 22,
      "outputs": [
        {
          "output_type": "stream",
          "text": [
            "math (Mathematics)\n",
            "\n",
            "Logistic regression decision words (discriminative model)\n",
            "----------------------------------------------------------------------\n",
            "combinatorial  : +1.7315 \t gravitational  : -1.6728\n",
            "torus          : +1.4445 \t hidden         : -1.5782\n",
            "integrals      : +1.4051 \t spacetime      : -1.5059\n",
            "decomposition  : +1.3631 \t argue          : -1.5029\n",
            "proved         : +1.3568 \t gauge          : -1.4799\n",
            "asymptotic     : +1.3546 \t bosonic        : -1.4614\n",
            "p              : +1.3511 \t star           : -1.4517\n",
            "sharp          : +1.3404 \t supersymmetry  : -1.4443\n",
            "category       : +1.3257 \t gravity        : -1.3801\n",
            "series         : +1.2994 \t measurement    : -1.3743\n",
            "\n",
            "\n",
            "Naive Bayes classifier probable/improbable words (generative model)\n",
            "----------------------------------------------------------------------\n",
            "xmathx         : +0.01633552 \t insulator      : +0.00002078\n",
            "prove          : +0.00733644 \t singlet        : +0.00002078\n",
            "xnumx          : +0.00654668 \t milky          : +0.00002078\n",
            "space          : +0.00548674 \t remnant        : +0.00002078\n",
            "case           : +0.00521656 \t morphology     : +0.00002078\n",
            "finite         : +0.00519578 \t photonic       : +0.00002078\n",
            "group          : +0.00517499 \t low-energy     : +0.00002078\n",
            "given          : +0.00486325 \t atmosphere     : +0.00002078\n",
            "give           : +0.00453072 \t tevatron       : +0.00002078\n",
            "result         : +0.00444759 \t catalog        : +0.00002078\n"
          ],
          "name": "stdout"
        }
      ]
    },
    {
      "cell_type": "markdown",
      "metadata": {
        "id": "2LprrbnCMjE7"
      },
      "source": [
        "Before reading further, take a moment to closely inspect the tokens shown in the lists and try to draw your own conclusions. Think about the following questions:\r\n",
        "\r\n",
        "* What is the difference between weights having a positive or a negative sign in the logistic regression?\r\n",
        "* Do you notice any differences between tokens associated with positive and negative signs?\r\n",
        "* What is the interpretation of the coefficients in the naive Bayes list?\r\n",
        "* What is the difference between the tokens in both columns in the naive Bayes list in the context of maths papers?\r\n",
        "* What are the similarities and differences between tokens in both lists?"
      ]
    },
    {
      "cell_type": "markdown",
      "metadata": {
        "id": "Gg6OY4C8MoTU"
      },
      "source": [
        "At this point you may already have a good idea of what the models are doing differently. We'll write it down explicitly in here.\r\n",
        "\r\n",
        "In the logistic regression, tokens with a positive weight indicate that if such a token is present, the document is more likely to belong to the 'math' category. Likewise, tokens with a negative weight indicate that if that token appears, the document is more likely to belong to other category. The larger the magnitude, the stronger the association. Thus, those with positive weights are tokens that can be found in maths papers but are not so commonly found in other papers. Inded, 'combinatorial', 'decomposition' and 'series' are mostly found in mathematics papers compared to others categories. The token 'p' can be found in the context of 'P vs NP', 'p-adic numbers' and is commonly used in mathematical notation. On the other hand, 'gravitational', 'spacetime', 'gauge' and 'supersymmetry' are words that are more commonly found in papers about general relativity or theoretical physics rather than mathematics.\r\n",
        "\r\n",
        "In the naive Bayes classifier, the coefficient represents the probability of a token to appear in a 'math' abstract. Tokens with higher probability are more likely to appear, while those with less probability as less likely. Note that this classifier does not care if the tokens also commonly appear in other categories, it just pays attention to the tokens that often appear in 'math'. Most abstracts in the 'math' category include a mathematical formula at some point, thus, the token 'xmathx' has the largest probability of appearing. Similarly, 'prove', 'space', 'finite' and 'group' also commonly appear in maths papers, as well as numbers, represented by 'xnumx'. On the other hand, words like 'insulator', 'singlet', 'photonic' and 'tevatron' seldomly appear in maths papers, thus they are assigned a small probability.\r\n",
        "\r\n",
        "Comparing the two lists makes the difference between discriminative and generative models evident. Recall that 'xmathx' appears as the most frequent token in the corpus. Naive Bayes learnt that most math papers contain a formula, so it gave 'xmathx' a high probability. However, it does not care for the fact that a good amount of scientific abstracts of all categories also contain a formula at some point. This is the reason why 'xmathx' does not appear in the list for logistic regression. Logistic regression knows that 'xmathx' appears everywhere and hence, it is not a good discriminant. Logistic regression is identifying the tokens that appear mostly in maths but not in other categories, while naive Bayes, those that appear together more frequently in maths, independent of whether they also appear in other categories. In other words, logistic regression is telling us how to distinguish (discriminate) a mathematics abstract from others, while naive Bayes is telling us how to write (generate) a mathematics abstract.\r\n",
        "\r\n",
        "Take a look at the lists for the classifiers of the 'astro-ph' and 'cond-mat' categories as well to convice yourself this makes sense.\r\n"
      ]
    },
    {
      "cell_type": "code",
      "metadata": {
        "colab": {
          "base_uri": "https://localhost:8080/"
        },
        "id": "_lM4khonMtSf",
        "outputId": "0243af3e-0e89-405c-af50-b9e52baec923"
      },
      "source": [
        "temp_coefs_p = [(word,coef) for word,coef in zip(top_words,clf['logr'].estimators_[0].coef_[0]) if coef>0]\r\n",
        "temp_coefs_n = [(word,coef) for word,coef in zip(top_words,clf['logr'].estimators_[0].coef_[0]) if coef<0]\r\n",
        "temp_coefs_nb = [(word,np.exp(coef)) for word,coef in zip(top_words,clf['nb'].estimators_[0].coef_[0])]\r\n",
        "temp_coefs_p = sorted(temp_coefs_p,key=lambda x:np.abs(x[-1]),reverse=True)\r\n",
        "temp_coefs_n = sorted(temp_coefs_n,key=lambda x:np.abs(x[-1]),reverse=True)\r\n",
        "temp_coefs_nb = sorted(temp_coefs_nb,key=lambda x:np.abs(x[-1]),reverse=True)\r\n",
        "print('astro-ph (Astrophysics)\\n')\r\n",
        "print('Logistic regression decision words (discriminative model)')\r\n",
        "print('-'*70)\r\n",
        "for i in range(10):\r\n",
        "    # Logistic regression coefficients\r\n",
        "    (word_p,coef_p) = temp_coefs_p[i]\r\n",
        "    (word_n,coef_n) = temp_coefs_n[i]\r\n",
        "    print(f'{word_p:<15}: {coef_p:>+0.4f} \\t {word_n:<15}: {coef_n:>+0.4f}')\r\n",
        "\r\n",
        "print('\\n')\r\n",
        "print('Naive Bayes classifier probable/improbable words (generative model)')\r\n",
        "print('-'*70)\r\n",
        "for i in range(10):\r\n",
        "    # Naive Bayes classifier coefficients\r\n",
        "    (word_high,coef_high) = temp_coefs_nb[i]\r\n",
        "    (word_low,coef_low) = temp_coefs_nb[-i-1]\r\n",
        "    print(f'{word_high:<15}: {coef_high:>+0.8f} \\t {word_low:<15}: {coef_low:>+0.8f}')"
      ],
      "execution_count": 23,
      "outputs": [
        {
          "output_type": "stream",
          "text": [
            "astro-ph (Astrophysics)\n",
            "\n",
            "Logistic regression decision words (discriminative model)\n",
            "----------------------------------------------------------------------\n",
            "cosmic         : +2.4541 \t geometric      : -1.3777\n",
            "stars          : +2.2870 \t hamiltonian    : -1.2056\n",
            "accretion      : +2.1026 \t earth          : -1.1929\n",
            "telescope      : +2.0157 \t prove          : -1.1605\n",
            "stellar        : +1.9982 \t fluid          : -1.0805\n",
            "inflation      : +1.8905 \t experimental   : -1.0715\n",
            "galaxy         : +1.5997 \t electron       : -1.0620\n",
            "star           : +1.5262 \t layer          : -1.0603\n",
            "future         : +1.4318 \t gev            : -1.0432\n",
            "calibration    : +1.3852 \t compact        : -1.0155\n",
            "\n",
            "\n",
            "Naive Bayes classifier probable/improbable words (generative model)\n",
            "----------------------------------------------------------------------\n",
            "xnumx          : +0.01112984 \t insulator      : +0.00001306\n",
            "xmathx         : +0.00879152 \t singlet        : +0.00001306\n",
            "xalphax        : +0.00756359 \t membrane       : +0.00001306\n",
            "observations   : +0.00509464 \t photonic       : +0.00001306\n",
            "observed       : +0.00478113 \t varieties      : +0.00001306\n",
            "data           : +0.00467662 \t impurity       : +0.00001306\n",
            "mass           : +0.00465049 \t valence        : +0.00001306\n",
            "model          : +0.00458518 \t language       : +0.00001306\n",
            "star           : +0.00414103 \t dna            : +0.00001306\n",
            "stars          : +0.00410184 \t triangular     : +0.00001306\n"
          ],
          "name": "stdout"
        }
      ]
    },
    {
      "cell_type": "code",
      "metadata": {
        "colab": {
          "base_uri": "https://localhost:8080/"
        },
        "id": "xRCnrxCJMvHb",
        "outputId": "29a50e26-02ac-47ee-8e4c-b40824cd8966"
      },
      "source": [
        "temp_coefs_p = [(word,coef) for word,coef in zip(top_words,clf['logr'].estimators_[1].coef_[0]) if coef>0]\r\n",
        "temp_coefs_n = [(word,coef) for word,coef in zip(top_words,clf['logr'].estimators_[1].coef_[0]) if coef<0]\r\n",
        "temp_coefs_nb = [(word,np.exp(coef)) for word,coef in zip(top_words,clf['nb'].estimators_[1].coef_[0])]\r\n",
        "temp_coefs_p = sorted(temp_coefs_p,key=lambda x:np.abs(x[-1]),reverse=True)\r\n",
        "temp_coefs_n = sorted(temp_coefs_n,key=lambda x:np.abs(x[-1]),reverse=True)\r\n",
        "temp_coefs_nb = sorted(temp_coefs_nb,key=lambda x:np.abs(x[-1]),reverse=True)\r\n",
        "print('cond-mat (Condensed matter)\\n')\r\n",
        "print('Logistic regression decision words (discriminative model)')\r\n",
        "print('-'*70)\r\n",
        "for i in range(10):\r\n",
        "    # Logistic regression coefficients\r\n",
        "    (word_p,coef_p) = temp_coefs_p[i]\r\n",
        "    (word_n,coef_n) = temp_coefs_n[i]\r\n",
        "    print(f'{word_p:<15}: {coef_p:>+0.4f} \\t {word_n:<15}: {coef_n:>+0.4f}')\r\n",
        "\r\n",
        "print('\\n')\r\n",
        "print('Naive Bayes classifier probable/improbable words (generative model)')\r\n",
        "print('-'*70)\r\n",
        "for i in range(10):\r\n",
        "    # Naive Bayes classifier coefficients\r\n",
        "    (word_high,coef_high) = temp_coefs_nb[i]\r\n",
        "    (word_low,coef_low) = temp_coefs_nb[-i-1]\r\n",
        "    print(f'{word_high:<15}: {coef_high:>+0.8f} \\t {word_low:<15}: {coef_low:>+0.8f}')"
      ],
      "execution_count": 24,
      "outputs": [
        {
          "output_type": "stream",
          "text": [
            "cond-mat (Condensed matter)\n",
            "\n",
            "Logistic regression decision words (discriminative model)\n",
            "----------------------------------------------------------------------\n",
            "graphene       : +2.1415 \t qcd            : -2.1077\n",
            "device         : +1.9317 \t quark          : -1.8182\n",
            "semiconductor  : +1.8594 \t neutral        : -1.5531\n",
            "strain         : +1.6316 \t successfully   : -1.5389\n",
            "equilibrium    : +1.6116 \t star           : -1.5315\n",
            "junction       : +1.5983 \t explicitly     : -1.5157\n",
            "films          : +1.5730 \t nuclei         : -1.4842\n",
            "dots           : +1.5340 \t edges          : -1.4177\n",
            "elastic        : +1.5098 \t plasma         : -1.3891\n",
            "diffusion      : +1.4332 \t mass           : -1.3659\n",
            "\n",
            "\n",
            "Naive Bayes classifier probable/improbable words (generative model)\n",
            "----------------------------------------------------------------------\n",
            "xmathx         : +0.00893084 \t milky          : +0.00001812\n",
            "model          : +0.00675700 \t diversity      : +0.00001812\n",
            "xnumx          : +0.00592370 \t tevatron       : +0.00001812\n",
            "quantum        : +0.00547082 \t catalog        : +0.00001812\n",
            "xalphax        : +0.00532589 \t varieties      : +0.00001812\n",
            "field          : +0.00503605 \t searches       : +0.00001812\n",
            "magnetic       : +0.00492736 \t myr            : +0.00001812\n",
            "temperature    : +0.00492736 \t nebula         : +0.00001812\n",
            "phase          : +0.00487301 \t bodies         : +0.00001812\n",
            "system         : +0.00476432 \t star-forming   : +0.00001812\n"
          ],
          "name": "stdout"
        }
      ]
    },
    {
      "cell_type": "markdown",
      "metadata": {
        "id": "E_nvkNHRMxZf"
      },
      "source": [
        "Note that 'xmathx' and 'xnumx' appear in all three classes with naive Bayes, as abstracts from these categories all make use of mathematical formulas and numbers.\r\n",
        "\r\n",
        "Discriminative models return the words that are semantically related to each subject; maths: {combinatorial,torus,integral}, astrophysics:{cosmic,stars,accretion}, condensed matter:{graphene,device,semiconductor}. The weights define the decision boundary, interpreted in this case as words that occur in one context but not in the other.\r\n",
        "\r\n",
        "Generative models return the most common words within each category; a maths abstract likely includes formulas, numbers and 'integral', an astrophysics one likely inlcudes formulas, numbers and 'stars', a condensed matter one, formulas, numbers and 'graphene'. The assumption is that the text was generated by drawing tokens at random from a probability distribution, this is the distribution the model tries to find. In theory, with a sufficiently sophisticated generative model, we could write an abstract of any chosen category by drawing tokens from this probability distribution (see e.g. [OpenAI's GPT architectures](https://openai.com/))."
      ]
    },
    {
      "cell_type": "markdown",
      "metadata": {
        "id": "iK4BpmcYM0US"
      },
      "source": [
        "## 5. Conclusions"
      ]
    },
    {
      "cell_type": "markdown",
      "metadata": {
        "id": "AeZQh4AzNA8g"
      },
      "source": [
        "This notebook has attempted to illustrate the difference between discriminative and generative models using a simple document classification task. Discriminative models learn to model a decision boundary to distinguish different categories. Thus, a logistic regression identifies words in the semantic group of each category, e.g. maths:{combinatorial, torus}, astrophysics:{cosmic, stars}, condensed matter:{graphene, semiconductor}. On the other hand, generative models learn to construct a typical example of a given category. The naive Bayes classifier learns that all abstracts must include formulas and numbers, as well as keywords that often appear in abstracts of a given category.\r\n",
        "\r\n",
        "Each type of model may have their advantages and disadvatanges, and there is not one that is always best than the others. Thus, selecting a model is a non-trivial task that depends on the problem to solve and on the data and resources available."
      ]
    }
  ]
}